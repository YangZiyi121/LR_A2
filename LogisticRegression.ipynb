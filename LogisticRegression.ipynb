{
 "cells": [
  {
   "cell_type": "markdown",
   "id": "8a591c0e",
   "metadata": {},
   "source": [
    "**Logistic Regression**\n",
    "\n",
    "\n",
    "**Step1: Data loading and preparing**"
   ]
  },
  {
   "cell_type": "code",
   "execution_count": 11,
   "id": "c37c6d6e",
   "metadata": {},
   "outputs": [],
   "source": [
    "from sklearn.datasets import load_digits\n",
    "import numpy as np\n",
    "\n",
    "X_train, X_test, y_train, y_test = np.load('digitspreprocess.npy', allow_pickle=True)\n",
    "y_train_mat =np.mat(y_train).T\n",
    "y_test_mat = np.mat(y_test).T\n",
    "X_train = np.mat(np.c_[np.ones((X_train.shape[0],1)), X_train]) #add constant\n",
    "X_test = np.mat(np.c_[np.ones((X_test.shape[0],1)), X_test])\n"
   ]
  },
  {
   "cell_type": "markdown",
   "id": "f3519745",
   "metadata": {},
   "source": [
    "**Step 2: Gradient Descent**"
   ]
  },
  {
   "cell_type": "code",
   "execution_count": 17,
   "id": "cdd80480",
   "metadata": {},
   "outputs": [
    {
     "name": "stdout",
     "output_type": "stream",
     "text": [
      "Terminate Norm 9.997917856485694e-06\n",
      "9.997917856485694e-06\n",
      "[[ 1.13739644e-03  4.42303887e-06  1.15330231e-02  8.73064948e-02\n",
      "  -2.36469454e-02  4.20692451e-02 -6.71760279e-02  1.45273688e-02\n",
      "   6.99868452e-02  1.03862736e-02  5.63666430e-02  1.25570525e-01\n",
      "   1.26556619e-01  8.52001974e-02  8.38327965e-02  8.34423550e-02\n",
      "   4.71332363e-02  3.84927623e-03  6.11304271e-02 -6.34199852e-02\n",
      "  -1.45833478e-01 -1.10899744e-01  1.51358184e-01  2.27173063e-02\n",
      "   1.70490170e-02  9.90788485e-06 -3.15274143e-02 -1.34282610e-01\n",
      "  -9.57021445e-04 -1.44960046e-01 -1.89628395e-02  8.93488624e-02\n",
      "  -2.36271224e-05 -1.62393927e-05 -1.11436963e-02 -2.60555495e-02\n",
      "   2.35841334e-02  5.60561369e-02 -1.17990527e-01  6.11365007e-02\n",
      "  -1.87464164e-05  6.47503629e-05 -1.12216177e-02  2.22138086e-01\n",
      "   6.05982407e-02  1.11996406e-02  6.83848744e-02 -1.53448455e-01\n",
      "  -1.48801969e-03  9.48981340e-06  9.39114324e-02 -4.66663838e-03\n",
      "  -1.38890397e-02 -9.05182015e-02  5.84522827e-02 -5.81092962e-02\n",
      "  -1.76147866e-03  3.26945412e-05  5.49615812e-02 -7.15954383e-02\n",
      "  -6.81323578e-03 -1.58417871e-01 -9.08490571e-02 -4.07468933e-02\n",
      "   1.99177220e-03]]\n",
      "21039\n"
     ]
    }
   ],
   "source": [
    "def gradientDescent(learningRate, lema, maxInter, epsilon):\n",
    "    W = np.mat(np.random.randn(65,1)) #initial w\n",
    "\n",
    "    for i in range(maxInter):\n",
    "        H = 1/(1 + np.exp(-X_train * W))\n",
    "        dw = (1/X_train.shape[0]) * X_train.T * (H - y_train_mat) + lema * W\n",
    "        #print(np.linalg.norm(dw, ord = 2)) \n",
    "        if(np.linalg.norm(dw, ord = 2) < epsilon): \n",
    "            print(\"Terminate Norm\", np.linalg.norm(dw, ord = 2))\n",
    "            break\n",
    "        else:\n",
    "            W -= learningRate * dw\n",
    "            \n",
    "    print(np.linalg.norm(dw))  \n",
    "    print(W.T)\n",
    "    print(i)        \n",
    "\n",
    "    return W\n",
    "\n",
    "W_0_1 = gradientDescent(learningRate = 0.005, lema = 0.1, maxInter = 100000, epsilon = 0.00001)\n"
   ]
  },
  {
   "cell_type": "markdown",
   "id": "0535a180",
   "metadata": {},
   "source": [
    "**Step 3: Predict Model**"
   ]
  },
  {
   "cell_type": "code",
   "execution_count": 18,
   "id": "02e577fd",
   "metadata": {},
   "outputs": [],
   "source": [
    "def predict(W, X):\n",
    "    m = X.shape[0]\n",
    "    Y_prediction = np.mat(np.zeros((m,1)))\n",
    "    A = np.mat(1/(1 + np.exp(-X @ W)))\n",
    "    for i in range(m):\n",
    "        if A[i,0]>0.5:\n",
    "            Y_prediction[i,0] = 1\n",
    "        else:\n",
    "            Y_prediction[i,0] = 0\n",
    "\n",
    "    return Y_prediction\n",
    "\n",
    "predicted_test_0_1 = predict(W, X_test)"
   ]
  },
  {
   "cell_type": "markdown",
   "id": "f606af61",
   "metadata": {},
   "source": [
    "**Step 4: Error Rate**"
   ]
  },
  {
   "cell_type": "code",
   "execution_count": 19,
   "id": "11861a62",
   "metadata": {},
   "outputs": [
    {
     "name": "stdout",
     "output_type": "stream",
     "text": [
      "0.9018691588785047\n"
     ]
    }
   ],
   "source": [
    "testBoolean = np.array(predicted_test_0_1 == y_test_mat)\n",
    "print(np.count_nonzero(testBoolean == 1)/ testBoolean.shape[0])"
   ]
  },
  {
   "cell_type": "code",
   "execution_count": null,
   "id": "0efe59b8",
   "metadata": {},
   "outputs": [],
   "source": []
  }
 ],
 "metadata": {
  "kernelspec": {
   "display_name": "Python 3 (ipykernel)",
   "language": "python",
   "name": "python3"
  },
  "language_info": {
   "codemirror_mode": {
    "name": "ipython",
    "version": 3
   },
   "file_extension": ".py",
   "mimetype": "text/x-python",
   "name": "python",
   "nbconvert_exporter": "python",
   "pygments_lexer": "ipython3",
   "version": "3.9.7"
  }
 },
 "nbformat": 4,
 "nbformat_minor": 5
}
